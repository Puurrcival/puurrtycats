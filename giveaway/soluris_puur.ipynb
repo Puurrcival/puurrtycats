{
 "cells": [
  {
   "cell_type": "code",
   "execution_count": 1,
   "metadata": {},
   "outputs": [
    {
     "name": "stdout",
     "output_type": "stream",
     "text": [
      "UTC time: 2022-04-15 00:05:59.871787\n"
     ]
    }
   ],
   "source": [
    "import json, pandas as pd, tweepy, ssl, time, random, datetime\n",
    "print('UTC time:', datetime.datetime.utcnow())"
   ]
  },
  {
   "cell_type": "code",
   "execution_count": 2,
   "metadata": {},
   "outputs": [],
   "source": [
    "with open(\"credentials.txt\", \"r\") as f:\n",
    "    creds = json.loads(f.read())\n",
    "\n",
    "ssl._create_default_https_context = ssl._create_unverified_context\n",
    "\n",
    "# Oauth keys\n",
    "consumer_key = creds['apikey']\n",
    "consumer_secret = creds['apikeysecret']\n",
    "access_token = creds['token']\n",
    "access_token_secret = creds['tokensecret']\n",
    "\n",
    "# Authentication with Twitter\n",
    "auth = tweepy.OAuthHandler(consumer_key, consumer_secret)\n",
    "auth.set_access_token(access_token, access_token_secret)\n",
    "api = tweepy.API(auth)\n",
    "\n",
    "# collect replies\n",
    "name = 'Puurrcival'\n",
    "tweet_id = 1513650748189458432\n",
    "\n",
    "tweet_list = []\n",
    "for tweet in tweepy.Cursor(api.search_tweets,q='to:'+name, result_type='recent').items(100):\n",
    "    if tweet.in_reply_to_status_id == tweet_id or tweet.in_reply_to_status_id == 1513650788618444805:\n",
    "        for mention in tweet._json['entities']['user_mentions']:\n",
    "            tweet_list.append((tweet._json['user']['id'], tweet._json['user']['name'],tweet._json['id'], tweet._json['text'] ,mention['screen_name']))\n",
    "        \n",
    "df = pd.DataFrame(tweet_list, columns=['user_id','name','reply_id', 'text', 'tagged'])\n",
    "df = df.drop_duplicates(['user_id','tagged'])\n",
    "df = df[df['tagged'].apply(lambda x: x not in ['Puurrcival', 'discosolaris', 'PuurrtyCats'])]"
   ]
  },
  {
   "cell_type": "markdown",
   "metadata": {},
   "source": [
    "# Pull Winners"
   ]
  },
  {
   "cell_type": "code",
   "execution_count": 3,
   "metadata": {},
   "outputs": [
    {
     "name": "stdout",
     "output_type": "stream",
     "text": [
      "UTC time: 2022-04-15 00:06:08.905347\n"
     ]
    },
    {
     "data": {
      "text/html": [
       "<div>\n",
       "<style scoped>\n",
       "    .dataframe tbody tr th:only-of-type {\n",
       "        vertical-align: middle;\n",
       "    }\n",
       "\n",
       "    .dataframe tbody tr th {\n",
       "        vertical-align: top;\n",
       "    }\n",
       "\n",
       "    .dataframe thead th {\n",
       "        text-align: right;\n",
       "    }\n",
       "</style>\n",
       "<table border=\"1\" class=\"dataframe\">\n",
       "  <thead>\n",
       "    <tr style=\"text-align: right;\">\n",
       "      <th></th>\n",
       "      <th>name</th>\n",
       "      <th>tagged</th>\n",
       "      <th>winner</th>\n",
       "    </tr>\n",
       "  </thead>\n",
       "  <tbody>\n",
       "    <tr>\n",
       "      <th>158</th>\n",
       "      <td>Jack</td>\n",
       "      <td>jackister69</td>\n",
       "      <td>winner</td>\n",
       "    </tr>\n",
       "    <tr>\n",
       "      <th>98</th>\n",
       "      <td>CNFT-Izzy</td>\n",
       "      <td>BigBaldozkyCnft</td>\n",
       "      <td>winner</td>\n",
       "    </tr>\n",
       "    <tr>\n",
       "      <th>102</th>\n",
       "      <td>jid_cnft</td>\n",
       "      <td>khaelisaiah28</td>\n",
       "      <td>successor</td>\n",
       "    </tr>\n",
       "    <tr>\n",
       "      <th>263</th>\n",
       "      <td>Cruziana</td>\n",
       "      <td>flok1_</td>\n",
       "      <td>successor</td>\n",
       "    </tr>\n",
       "    <tr>\n",
       "      <th>30</th>\n",
       "      <td>TeHoDLbag</td>\n",
       "      <td>ergomergoadargo</td>\n",
       "      <td>successor</td>\n",
       "    </tr>\n",
       "    <tr>\n",
       "      <th>339</th>\n",
       "      <td>Mfer. Lovely</td>\n",
       "      <td>discobrewclub</td>\n",
       "      <td>successor</td>\n",
       "    </tr>\n",
       "    <tr>\n",
       "      <th>72</th>\n",
       "      <td>DesuriusNFT</td>\n",
       "      <td>Aisiuuu</td>\n",
       "      <td>successor</td>\n",
       "    </tr>\n",
       "    <tr>\n",
       "      <th>322</th>\n",
       "      <td>Darkodius</td>\n",
       "      <td>TheDKALife</td>\n",
       "      <td>successor</td>\n",
       "    </tr>\n",
       "    <tr>\n",
       "      <th>57</th>\n",
       "      <td>Akimbo2408</td>\n",
       "      <td>Ace172924412</td>\n",
       "      <td>successor</td>\n",
       "    </tr>\n",
       "    <tr>\n",
       "      <th>52</th>\n",
       "      <td>Akimbo2408</td>\n",
       "      <td>luckychardano</td>\n",
       "      <td>successor</td>\n",
       "    </tr>\n",
       "  </tbody>\n",
       "</table>\n",
       "</div>"
      ],
      "text/plain": [
       "             name           tagged     winner\n",
       "158          Jack      jackister69     winner\n",
       "98      CNFT-Izzy  BigBaldozkyCnft     winner\n",
       "102      jid_cnft    khaelisaiah28  successor\n",
       "263      Cruziana           flok1_  successor\n",
       "30      TeHoDLbag  ergomergoadargo  successor\n",
       "339  Mfer. Lovely    discobrewclub  successor\n",
       "72    DesuriusNFT          Aisiuuu  successor\n",
       "322     Darkodius       TheDKALife  successor\n",
       "57     Akimbo2408     Ace172924412  successor\n",
       "52     Akimbo2408    luckychardano  successor"
      ]
     },
     "execution_count": 3,
     "metadata": {},
     "output_type": "execute_result"
    }
   ],
   "source": [
    "print('UTC time:', datetime.datetime.utcnow())\n",
    "ix_list = list(df.index)\n",
    "\n",
    "winner_list = pd.DataFrame()\n",
    "\n",
    "for _ in range(10):\n",
    "    winner = random.choice(ix_list)\n",
    "    ix_list.pop(ix_list.index(winner))\n",
    "    winner_list = winner_list.append(df[df.index == winner])\n",
    "    \n",
    "winner_list['winner']=['winner','winner']+['successor' for _ in range(8)]\n",
    "    \n",
    "    \n",
    "winner_list[['name','tagged','winner']]"
   ]
  },
  {
   "cell_type": "code",
   "execution_count": null,
   "metadata": {},
   "outputs": [],
   "source": []
  }
 ],
 "metadata": {
  "kernelspec": {
   "display_name": "Python [conda env:abd_workshop_2021_2] *",
   "language": "python",
   "name": "conda-env-abd_workshop_2021_2-py"
  },
  "language_info": {
   "codemirror_mode": {
    "name": "ipython",
    "version": 3
   },
   "file_extension": ".py",
   "mimetype": "text/x-python",
   "name": "python",
   "nbconvert_exporter": "python",
   "pygments_lexer": "ipython3",
   "version": "3.8.11"
  }
 },
 "nbformat": 4,
 "nbformat_minor": 4
}
