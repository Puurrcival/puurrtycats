{
 "cells": [
  {
   "cell_type": "code",
   "execution_count": 26,
   "metadata": {},
   "outputs": [],
   "source": [
    "import json, pandas as pd, tweepy, ssl, time, random, datetime\n",
    "with open(\"credentials.txt\", \"r\") as f:\n",
    "    creds = json.loads(f.read())\n",
    "\n",
    "ssl._create_default_https_context = ssl._create_unverified_context\n",
    "\n",
    "# Oauth keys\n",
    "consumer_key = creds['apikey']\n",
    "consumer_secret = creds['apikeysecret']\n",
    "access_token = creds['token']\n",
    "access_token_secret = creds['tokensecret']\n",
    "\n",
    "# Authentication with Twitter\n",
    "auth = tweepy.OAuthHandler(consumer_key, consumer_secret)\n",
    "auth.set_access_token(access_token, access_token_secret)\n",
    "api = tweepy.API(auth)\n",
    "\n",
    "# collect replies\n",
    "name = 'Puurrcival'\n",
    "tweet_id = 1513650748189458432\n",
    "\n",
    "tweet_list = []\n",
    "for tweet in tweepy.Cursor(api.search_tweets,q='to:'+name, result_type='recent').items(100):\n",
    "    if tweet.in_reply_to_status_id == tweet_id or tweet.in_reply_to_status_id == 1513650788618444805:\n",
    "        for mention in tweet._json['entities']['user_mentions']:\n",
    "            tweet_list.append((tweet._json['user']['id'], tweet._json['user']['name'],tweet._json['id'], tweet._json['text'] ,mention['screen_name']))\n",
    "        \n",
    "df = pd.DataFrame(tweet_list, columns=['user_id','name','reply_id', 'text', 'tagged'])\n",
    "df = df.drop_duplicates(['user_id','tagged'])\n",
    "df = df[df['tagged'].apply(lambda x: x not in ['Puurrcival', 'discosolaris', 'PuurrtyCats'])]"
   ]
  },
  {
   "cell_type": "code",
   "execution_count": 43,
   "metadata": {
    "scrolled": false
   },
   "outputs": [],
   "source": [
    "#pd.set_option('display.max_rows', 1500)\n",
    "#df[['user_id','name','tagged']]"
   ]
  },
  {
   "cell_type": "markdown",
   "metadata": {},
   "source": [
    "# Pull Winners"
   ]
  },
  {
   "cell_type": "code",
   "execution_count": 48,
   "metadata": {},
   "outputs": [
    {
     "name": "stdout",
     "output_type": "stream",
     "text": [
      "UTC time: 2022-04-14 10:21:10.131517\n"
     ]
    },
    {
     "data": {
      "text/html": [
       "<div>\n",
       "<style scoped>\n",
       "    .dataframe tbody tr th:only-of-type {\n",
       "        vertical-align: middle;\n",
       "    }\n",
       "\n",
       "    .dataframe tbody tr th {\n",
       "        vertical-align: top;\n",
       "    }\n",
       "\n",
       "    .dataframe thead th {\n",
       "        text-align: right;\n",
       "    }\n",
       "</style>\n",
       "<table border=\"1\" class=\"dataframe\">\n",
       "  <thead>\n",
       "    <tr style=\"text-align: right;\">\n",
       "      <th></th>\n",
       "      <th>name</th>\n",
       "      <th>tagged</th>\n",
       "      <th>winner</th>\n",
       "    </tr>\n",
       "  </thead>\n",
       "  <tbody>\n",
       "    <tr>\n",
       "      <th>336</th>\n",
       "      <td>PT</td>\n",
       "      <td>CalvinsBrew</td>\n",
       "      <td>winner</td>\n",
       "    </tr>\n",
       "    <tr>\n",
       "      <th>167</th>\n",
       "      <td>TeHoDLbag</td>\n",
       "      <td>TeHoDLbag</td>\n",
       "      <td>winner</td>\n",
       "    </tr>\n",
       "    <tr>\n",
       "      <th>314</th>\n",
       "      <td>Pleb 👀 || $awit69 || Send $SACT</td>\n",
       "      <td>tsuwaaaaa</td>\n",
       "      <td>successor</td>\n",
       "    </tr>\n",
       "    <tr>\n",
       "      <th>304</th>\n",
       "      <td>Mfer. Lovely</td>\n",
       "      <td>gx_texan</td>\n",
       "      <td>successor</td>\n",
       "    </tr>\n",
       "    <tr>\n",
       "      <th>294</th>\n",
       "      <td>MrChrister09</td>\n",
       "      <td>Darkodius1</td>\n",
       "      <td>successor</td>\n",
       "    </tr>\n",
       "    <tr>\n",
       "      <th>267</th>\n",
       "      <td>Wulalala.888</td>\n",
       "      <td>aiiiyoyo</td>\n",
       "      <td>successor</td>\n",
       "    </tr>\n",
       "    <tr>\n",
       "      <th>38</th>\n",
       "      <td>DesuriusNFT</td>\n",
       "      <td>anma_cnft</td>\n",
       "      <td>successor</td>\n",
       "    </tr>\n",
       "    <tr>\n",
       "      <th>58</th>\n",
       "      <td>CNFT-Izzy</td>\n",
       "      <td>CNFTJumz</td>\n",
       "      <td>successor</td>\n",
       "    </tr>\n",
       "    <tr>\n",
       "      <th>55</th>\n",
       "      <td>CNFT - Esey</td>\n",
       "      <td>cnft_jmess</td>\n",
       "      <td>successor</td>\n",
       "    </tr>\n",
       "    <tr>\n",
       "      <th>177</th>\n",
       "      <td>TeHoDLbag</td>\n",
       "      <td>Madira5959</td>\n",
       "      <td>successor</td>\n",
       "    </tr>\n",
       "  </tbody>\n",
       "</table>\n",
       "</div>"
      ],
      "text/plain": [
       "                                name       tagged     winner\n",
       "336                               PT  CalvinsBrew     winner\n",
       "167                        TeHoDLbag    TeHoDLbag     winner\n",
       "314  Pleb 👀 || $awit69 || Send $SACT    tsuwaaaaa  successor\n",
       "304                     Mfer. Lovely     gx_texan  successor\n",
       "294                     MrChrister09   Darkodius1  successor\n",
       "267                     Wulalala.888     aiiiyoyo  successor\n",
       "38                       DesuriusNFT    anma_cnft  successor\n",
       "58                         CNFT-Izzy     CNFTJumz  successor\n",
       "55                       CNFT - Esey   cnft_jmess  successor\n",
       "177                        TeHoDLbag   Madira5959  successor"
      ]
     },
     "execution_count": 48,
     "metadata": {},
     "output_type": "execute_result"
    }
   ],
   "source": [
    "print('UTC time:', datetime.datetime.utcnow())\n",
    "ix_list = list(df.index)\n",
    "\n",
    "winner_list = pd.DataFrame()\n",
    "\n",
    "for _ in range(10):\n",
    "    winner = random.choice(ix_list)\n",
    "    ix_list.pop(ix_list.index(winner))\n",
    "    winner_list = winner_list.append(df[df.index == winner])\n",
    "    \n",
    "winner_list['winner']=['winner','winner']+['successor' for _ in range(8)]\n",
    "    \n",
    "    \n",
    "winner_list[['name','tagged','winner']]"
   ]
  }
 ],
 "metadata": {
  "kernelspec": {
   "display_name": "Python [conda env:abd_workshop_2021_2] *",
   "language": "python",
   "name": "conda-env-abd_workshop_2021_2-py"
  },
  "language_info": {
   "codemirror_mode": {
    "name": "ipython",
    "version": 3
   },
   "file_extension": ".py",
   "mimetype": "text/x-python",
   "name": "python",
   "nbconvert_exporter": "python",
   "pygments_lexer": "ipython3",
   "version": "3.8.11"
  }
 },
 "nbformat": 4,
 "nbformat_minor": 4
}
